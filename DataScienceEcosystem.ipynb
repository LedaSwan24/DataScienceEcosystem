{
 "cells": [
  {
   "cell_type": "markdown",
   "id": "685ac7e2-dc2a-47fe-8617-761df64dd520",
   "metadata": {},
   "source": [
    "# Data Science Tools and Ecosystem"
   ]
  },
  {
   "cell_type": "markdown",
   "id": "2b12ec63-eb7d-46a9-baa0-a314a5768fc5",
   "metadata": {},
   "source": [
    "### # In this notebook, Data Science Tools and Ecosystem are summarised"
   ]
  },
  {
   "cell_type": "markdown",
   "id": "ce92dde2-81b8-4964-b57a-1131a65d7f69",
   "metadata": {},
   "source": [
    "##### Some of the popular languages that Data Scientists use are:\n",
    "1. Python\n",
    "2. R\n",
    "3. Java\n",
    "4. C++"
   ]
  },
  {
   "cell_type": "markdown",
   "id": "07140f7f-f068-4afd-b03b-2ea25b21583d",
   "metadata": {},
   "source": [
    "##### Some of the commonly used libraries used by Data Scientists include:\n",
    "1. Skikit-learn\n",
    "2. Matplotlib\n",
    "3. Numpy\n",
    "4. Pandas"
   ]
  },
  {
   "cell_type": "markdown",
   "id": "2ce8bcbd-8dc6-45ef-9d54-c9703ea1eb63",
   "metadata": {},
   "source": [
    "\n",
    "|Data Science Tools  |\n",
    "|--------------------|\n",
    "| Jupyter Notebook   |\n",
    "| Tensorflow         |\n",
    "| Apache Spark       | \n"
   ]
  },
  {
   "cell_type": "markdown",
   "id": "6b095626-49c9-46b5-9b3e-2d8d939f91d4",
   "metadata": {},
   "source": [
    "### Below are a few examples of evaluating arithmetic expressions in Python:\n",
    "\n",
    " \n"
   ]
  },
  {
   "cell_type": "code",
   "execution_count": 34,
   "id": "22d9fab9-a376-4719-a41b-75817e5d71fe",
   "metadata": {},
   "outputs": [
    {
     "data": {
      "text/plain": [
       "17"
      ]
     },
     "execution_count": 34,
     "metadata": {},
     "output_type": "execute_result"
    }
   ],
   "source": [
    "# This a simple arithmetic expression to multiply then add integers\n",
    "\n",
    "(3 * 4) + 5"
   ]
  },
  {
   "cell_type": "code",
   "execution_count": 36,
   "id": "1d0ff488-ca54-4cf1-949a-0ff236aa8da7",
   "metadata": {},
   "outputs": [
    {
     "data": {
      "text/plain": [
       "3.3333333333333335"
      ]
     },
     "execution_count": 36,
     "metadata": {},
     "output_type": "execute_result"
    }
   ],
   "source": [
    "# This will convert 200 minutes into hours by dividing by 60\n",
    "\n",
    "200 / 60 "
   ]
  },
  {
   "cell_type": "markdown",
   "id": "98fa24db-02fb-4750-ae52-baccaf5dd39a",
   "metadata": {},
   "source": [
    "# Objectives \n",
    "\n",
    "### Key takeaways from the notebook\n",
    "\n",
    "* Popular languages list for Data Science\n",
    "* Commonly used libraries for Data Science\n",
    "* Data Science Tools\n",
    "* Simple arithmetic expressions"
   ]
  },
  {
   "cell_type": "markdown",
   "id": "2c3111d7-7292-4cc2-936f-9ee0cf4d647b",
   "metadata": {},
   "source": [
    "## Author:\n",
    "Joanna. S"
   ]
  },
  {
   "cell_type": "code",
   "execution_count": null,
   "id": "a83eeca9-f362-4783-9823-45bdc21f68e5",
   "metadata": {},
   "outputs": [],
   "source": []
  }
 ],
 "metadata": {
  "kernelspec": {
   "display_name": "Python 3 (ipykernel)",
   "language": "python",
   "name": "python3"
  },
  "language_info": {
   "codemirror_mode": {
    "name": "ipython",
    "version": 3
   },
   "file_extension": ".py",
   "mimetype": "text/x-python",
   "name": "python",
   "nbconvert_exporter": "python",
   "pygments_lexer": "ipython3",
   "version": "3.12.4"
  }
 },
 "nbformat": 4,
 "nbformat_minor": 5
}
